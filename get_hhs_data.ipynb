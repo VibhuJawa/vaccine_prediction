{
 "cells": [
  {
   "cell_type": "code",
   "execution_count": 13,
   "metadata": {
    "collapsed": true
   },
   "outputs": [],
   "source": [
    "import matplotlib.pyplot as plt\n",
    "import json\n",
    "import os\n",
    "import pandas as pd\n",
    "from sklearn import linear_model\n",
    "import requests\n",
    "from sklearn import metrics\n",
    "data_dir = './vaccine_data/hhs_data'"
   ]
  },
  {
   "cell_type": "markdown",
   "metadata": {},
   "source": [
    "### Data Splits"
   ]
  },
  {
   "cell_type": "code",
   "execution_count": 25,
   "metadata": {
    "collapsed": true
   },
   "outputs": [],
   "source": [
    "train_years = ['2012','2013','2014']\n",
    "dev_years = ['2015']\n",
    "test_years = ['2016','2017']\n",
    "\n",
    "train_download_dir = ('train',train_years)\n",
    "dev_download_dir = ('dev',dev_years)\n",
    "test_download_dir = ('test',test_years)\n",
    "data_split_ls = [train_download_dir,dev_download_dir,test_download_dir]"
   ]
  },
  {
   "cell_type": "markdown",
   "metadata": {},
   "source": [
    "### URL To get data from https://fluvaccineapi.hhs.gov"
   ]
  },
  {
   "cell_type": "code",
   "execution_count": 35,
   "metadata": {},
   "outputs": [],
   "source": [
    "get_state_id_url = \"https://fluvaccineapi.hhs.gov/api/v2/ids/{}/states.json\"\n",
    "get_national_trends_url = \"https://fluvaccineapi.hhs.gov/api/v2/vaccination_rates/trends/\" +\\\n",
    "\"{}/national.json?ethnicity=T&medicare_status=A\"\n",
    "\n",
    "get_state_trends_url = \"https://fluvaccineapi.hhs.gov/api/v2/vaccination_rates/trends/\"+\\\n",
    "\"{}/states/{}.json?ethnicity=T&medicare_status=A\"\n"
   ]
  },
  {
   "cell_type": "markdown",
   "metadata": {},
   "source": [
    "## Code to download data"
   ]
  },
  {
   "cell_type": "code",
   "execution_count": 39,
   "metadata": {},
   "outputs": [],
   "source": [
    "os.makedirs(data_dir,exist_ok = True)\n",
    "for data_split in data_split_ls:\n",
    "    split,years = data_split\n",
    "    curr_dir = os.path.join(data_dir,split)\n",
    "    os.makedirs(curr_dir,exist_ok = True)\n",
    "    for year in years:\n",
    "        curr_year_dir = os.path.join(curr_dir,year)\n",
    "        os.makedirs(curr_year_dir,exist_ok = True)\n",
    "        \n",
    "        response = requests.get(get_national_trends_url.format(year))\n",
    "        national_trends_json = response.json()\n",
    "        with open(curr_year_dir+'/national.json', 'w') as outfile:\n",
    "                    json.dump(national_trends_json, outfile)\n",
    "        response = requests.get(get_state_id_url.format(year))\n",
    "        \n",
    "        states = response.json()\n",
    "        for state in states:\n",
    "            response = requests.get(get_state_trends_url.format(year,state))\n",
    "            state_trends_json = response.json()\n",
    "            with open(curr_year_dir+'/{}.json'.format(state), 'w') as outfile:\n",
    "                json.dump(state_trends_json, outfile)\n",
    "            "
   ]
  },
  {
   "cell_type": "code",
   "execution_count": null,
   "metadata": {
    "collapsed": true
   },
   "outputs": [],
   "source": []
  }
 ],
 "metadata": {
  "kernelspec": {
   "display_name": "mark_ra",
   "language": "python",
   "name": "mark_ra"
  },
  "language_info": {
   "codemirror_mode": {
    "name": "ipython",
    "version": 3
   },
   "file_extension": ".py",
   "mimetype": "text/x-python",
   "name": "python",
   "nbconvert_exporter": "python",
   "pygments_lexer": "ipython3",
   "version": "3.6.4"
  }
 },
 "nbformat": 4,
 "nbformat_minor": 2
}
