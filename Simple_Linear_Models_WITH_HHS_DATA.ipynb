{
 "cells": [
  {
   "cell_type": "code",
   "execution_count": 8,
   "metadata": {
    "collapsed": true
   },
   "outputs": [],
   "source": [
    "import matplotlib.pyplot as plt\n",
    "import json\n",
    "import os\n",
    "import pandas as pd\n",
    "from sklearn import linear_model\n",
    "from sklearn import metrics\n",
    "data_dir = './vaccine_data/hhs_data'"
   ]
  },
  {
   "cell_type": "code",
   "execution_count": 9,
   "metadata": {
    "collapsed": true
   },
   "outputs": [],
   "source": [
    "train_years = ['2012','2013','2014']\n",
    "dev_years = ['2015']\n",
    "test_years = ['2016','2017']\n",
    "\n",
    "train_download_dir = ('train',train_years)\n",
    "dev_download_dir = ('dev',dev_years)\n",
    "test_download_dir = ('test',test_years)\n",
    "data_split_ls = [train_download_dir,dev_download_dir,test_download_dir]"
   ]
  },
  {
   "cell_type": "markdown",
   "metadata": {},
   "source": [
    "## Plotting trends year on year dev"
   ]
  },
  {
   "cell_type": "code",
   "execution_count": 10,
   "metadata": {},
   "outputs": [
    {
     "ename": "FileNotFoundError",
     "evalue": "[Errno 2] No such file or directory: './vaccine_data/hhs_data/train/2012/national.json'",
     "output_type": "error",
     "traceback": [
      "\u001b[0;31m---------------------------------------------------------------------------\u001b[0m",
      "\u001b[0;31mFileNotFoundError\u001b[0m                         Traceback (most recent call last)",
      "\u001b[0;32m<ipython-input-10-44dfc664b89c>\u001b[0m in \u001b[0;36m<module>\u001b[0;34m()\u001b[0m\n\u001b[1;32m      4\u001b[0m     \u001b[0msplit\u001b[0m\u001b[0;34m,\u001b[0m\u001b[0myears\u001b[0m \u001b[0;34m=\u001b[0m \u001b[0mdata_split\u001b[0m\u001b[0;34m\u001b[0m\u001b[0m\n\u001b[1;32m      5\u001b[0m     \u001b[0;32mfor\u001b[0m \u001b[0myear\u001b[0m \u001b[0;32min\u001b[0m \u001b[0myears\u001b[0m\u001b[0;34m:\u001b[0m\u001b[0;34m\u001b[0m\u001b[0m\n\u001b[0;32m----> 6\u001b[0;31m         \u001b[0mdata\u001b[0m \u001b[0;34m=\u001b[0m \u001b[0mpd\u001b[0m\u001b[0;34m.\u001b[0m\u001b[0mread_json\u001b[0m\u001b[0;34m(\u001b[0m\u001b[0mopen\u001b[0m\u001b[0;34m(\u001b[0m\u001b[0mos\u001b[0m\u001b[0;34m.\u001b[0m\u001b[0mpath\u001b[0m\u001b[0;34m.\u001b[0m\u001b[0mjoin\u001b[0m\u001b[0;34m(\u001b[0m\u001b[0mdata_dir\u001b[0m\u001b[0;34m,\u001b[0m\u001b[0msplit\u001b[0m\u001b[0;34m,\u001b[0m\u001b[0myear\u001b[0m\u001b[0;34m,\u001b[0m\u001b[0;34m'national.json'\u001b[0m\u001b[0;34m)\u001b[0m\u001b[0;34m)\u001b[0m\u001b[0;34m)\u001b[0m\u001b[0;34m\u001b[0m\u001b[0m\n\u001b[0m\u001b[1;32m      7\u001b[0m         \u001b[0mdata\u001b[0m\u001b[0;34m[\u001b[0m\u001b[0;34m'percentage'\u001b[0m\u001b[0;34m]\u001b[0m\u001b[0;34m=\u001b[0m\u001b[0;36m100\u001b[0m\u001b[0;34m*\u001b[0m\u001b[0mdata\u001b[0m\u001b[0;34m[\u001b[0m\u001b[0;34m'percentage'\u001b[0m\u001b[0;34m]\u001b[0m\u001b[0;34m\u001b[0m\u001b[0m\n\u001b[1;32m      8\u001b[0m         \u001b[0;31m# data = data[['week','count','percentage','disparity','week_start']]\u001b[0m\u001b[0;34m\u001b[0m\u001b[0;34m\u001b[0m\u001b[0m\n",
      "\u001b[0;31mFileNotFoundError\u001b[0m: [Errno 2] No such file or directory: './vaccine_data/hhs_data/train/2012/national.json'"
     ]
    },
    {
     "data": {
      "text/plain": [
       "<matplotlib.figure.Figure at 0x119f61630>"
      ]
     },
     "metadata": {},
     "output_type": "display_data"
    }
   ],
   "source": [
    "fig=plt.figure( dpi= 100)\n",
    "\n",
    "for data_split in data_split_ls:\n",
    "    split,years = data_split\n",
    "    for year in years:\n",
    "        data = pd.read_json(open(os.path.join(data_dir,split,year,'national.json')))\n",
    "        data['percentage']=100*data['percentage']\n",
    "        # data = data[['week','count','percentage','disparity','week_start']]\n",
    "        plt.plot(data['week'],data['percentage'],label=year);\n",
    "        \n",
    "plt.grid()     \n",
    "plt.xlabel('Weeks, starting from aug-1')\n",
    "plt.ylabel('Percentage Vaccinated')\n",
    "plt.legend(bbox_to_anchor=(1.05, 1), loc=2, borderaxespad=0.)\n",
    "plt.show"
   ]
  },
  {
   "cell_type": "code",
   "execution_count": 79,
   "metadata": {
    "collapsed": true
   },
   "outputs": [],
   "source": [
    "data = pd.read_json(open(os.path.join(data_dir,'train','2013','national.json')))\n"
   ]
  },
  {
   "cell_type": "code",
   "execution_count": 223,
   "metadata": {
    "collapsed": true
   },
   "outputs": [],
   "source": [
    "# removing test\n",
    "data_split_ls = [train_download_dir,dev_download_dir]"
   ]
  },
  {
   "cell_type": "markdown",
   "metadata": {
    "collapsed": true
   },
   "source": [
    "### Predicting week n+p based on week n,n-1,n-2 ... n-k"
   ]
  },
  {
   "cell_type": "code",
   "execution_count": 235,
   "metadata": {},
   "outputs": [
    {
     "name": "stdout",
     "output_type": "stream",
     "text": [
      "National Data Split:train Year:2013\n",
      "--------------------------------------------------\n",
      "Model coefficents [ 0.32266353 -0.13057027 -0.36488228 -0.85575199  1.50377051], Model Bias 0.2659052400898162\n",
      "error 1.1016025906471805e-05\n",
      "\n",
      "\n",
      "National Data Split:train Year:2014\n",
      "--------------------------------------------------\n",
      "Model coefficents [-0.10452977  0.54432134 -0.03220901 -1.98596891  2.03035051], Model Bias 0.2751796069116755\n",
      "error 1.8113843978531418e-05\n",
      "\n",
      "\n",
      "National Data Split:dev Year:2015\n",
      "--------------------------------------------------\n",
      "Model coefficents [-0.1212454   0.72632931 -0.41316424 -1.79163222  2.09644048], Model Bias 0.24462062992971434\n",
      "error 2.032392988468018e-05\n",
      "\n",
      "\n"
     ]
    }
   ],
   "source": [
    "k = 5\n",
    "p = 5\n",
    "\n",
    "for data_split in data_split_ls:\n",
    "    split,years = data_split\n",
    "    for year in years:\n",
    "        if year == '2012':\n",
    "            continue;\n",
    "        data = pd.read_json(open(os.path.join(data_dir,split,year,'national.json')))\n",
    "        percentage = list(data.percentage.values)\n",
    "        # percentage = [0,1,2,3,4,5,6,7,8,9,10,11]\n",
    "        Y = []\n",
    "        X = []\n",
    "        for i in range(k,len(percentage)-p):\n",
    "            x_col = []\n",
    "            for j in range(i-k,i):\n",
    "                x_col.append(percentage[j])\n",
    "            X.append(x_col)\n",
    "            Y.append(percentage[i+p-1])\n",
    "        # sanity checks\n",
    "        # print('X[0]',X[0])\n",
    "        # print('Y first target',[Y[0]])\n",
    "        # print('len Y {} len X {}'.format(len(Y),len(X)))\n",
    "\n",
    "        assert(len(Y)==len(X))\n",
    "\n",
    "        model = linear_model.LinearRegression()\n",
    "        model.fit(X,Y)\n",
    "        y_pred = model.predict(X)\n",
    "        error = metrics.mean_squared_error(y_pred,Y)\n",
    "        print(\"National Data Split:{} Year:{}\".format(split, year))\n",
    "        print(\"-\"*50)\n",
    "        print('Model coefficents {}, Model Bias {}'.format(model.coef_,model.intercept_))\n",
    "        print('error',error)\n",
    "        print(\"\\n\")\n"
   ]
  },
  {
   "cell_type": "code",
   "execution_count": 236,
   "metadata": {},
   "outputs": [
    {
     "name": "stdout",
     "output_type": "stream",
     "text": [
      "National Data Split:train Year:2013\n",
      "--------------------------------------------------\n",
      "Model coefficents [-1.38774307  2.30121874], Model Bias 0.042298394539662276\n",
      "error 5.5514562823384555e-05\n",
      "\n",
      "\n",
      "National Data Split:train Year:2014\n",
      "--------------------------------------------------\n",
      "Model coefficents [-1.43322162  2.34880253], Model Bias 0.04082598125602199\n",
      "error 7.673010758915803e-05\n",
      "\n",
      "\n",
      "National Data Split:dev Year:2015\n",
      "--------------------------------------------------\n",
      "Model coefficents [-1.46177858  2.38663286], Model Bias 0.03502446209976501\n",
      "error 7.036577836190222e-05\n",
      "\n",
      "\n"
     ]
    }
   ],
   "source": [
    "k = 2\n",
    "p = 2\n",
    "\n",
    "for data_split in data_split_ls:\n",
    "    split,years = data_split\n",
    "    for year in years:\n",
    "        if year == '2012':\n",
    "            continue;\n",
    "        data = pd.read_json(open(os.path.join(data_dir,split,year,'national.json')))\n",
    "        percentage = list(data.percentage.values)\n",
    "        # percentage = [0,1,2,3,4,5,6,7,8,9,10,11]\n",
    "        Y = []\n",
    "        X = []\n",
    "        for i in range(k,len(percentage)-p):\n",
    "            x_col = []\n",
    "            for j in range(i-k,i):\n",
    "                x_col.append(percentage[j])\n",
    "            X.append(x_col)\n",
    "            Y.append(percentage[i+p-1])\n",
    "        # sanity checks\n",
    "        # print('X[0]',X[0])\n",
    "        # print('Y first target',[Y[0]])\n",
    "        # print('len Y {} len X {}'.format(len(Y),len(X)))\n",
    "\n",
    "        assert(len(Y)==len(X))\n",
    "\n",
    "        model = linear_model.LinearRegression()\n",
    "        model.fit(X,Y)\n",
    "        y_pred = model.predict(X)\n",
    "        error = metrics.mean_squared_error(y_pred,Y)\n",
    "        print(\"National Data Split:{} Year:{}\".format(split, year))\n",
    "        print(\"-\"*50)\n",
    "        print('Model coefficents {}, Model Bias {}'.format(model.coef_,model.intercept_))\n",
    "        print('error',error)\n",
    "        print(\"\\n\")\n"
   ]
  },
  {
   "cell_type": "code",
   "execution_count": 237,
   "metadata": {},
   "outputs": [
    {
     "name": "stdout",
     "output_type": "stream",
     "text": [
      "National Data Split:train Year:2013\n",
      "--------------------------------------------------\n",
      "Model coefficents [ 0.09480954 -0.05071741 -0.03110363 -0.87300752  1.81947302], Model Bias 0.020586923963751058\n",
      "error 2.7972836281882363e-06\n",
      "\n",
      "\n",
      "National Data Split:train Year:2014\n",
      "--------------------------------------------------\n",
      "Model coefficents [-0.02437525  0.17899249  0.04005467 -1.27840199  2.04715171], Model Bias 0.018401722040094604\n",
      "error 3.4689139143525823e-06\n",
      "\n",
      "\n",
      "National Data Split:dev Year:2015\n",
      "--------------------------------------------------\n",
      "Model coefficents [ 0.05653565  0.0744825  -0.18582397 -0.79411872  1.80873304], Model Bias 0.01961575463618448\n",
      "error 4.152450505089719e-06\n",
      "\n",
      "\n"
     ]
    }
   ],
   "source": [
    "k = 5\n",
    "p = 1\n",
    "\n",
    "for data_split in data_split_ls:\n",
    "    split,years = data_split\n",
    "    for year in years:\n",
    "        if year == '2012':\n",
    "            continue;\n",
    "        data = pd.read_json(open(os.path.join(data_dir,split,year,'national.json')))\n",
    "        percentage = list(data.percentage.values)\n",
    "        # percentage = [0,1,2,3,4,5,6,7,8,9,10,11]\n",
    "        Y = []\n",
    "        X = []\n",
    "        for i in range(k,len(percentage)-p):\n",
    "            x_col = []\n",
    "            for j in range(i-k,i):\n",
    "                x_col.append(percentage[j])\n",
    "            X.append(x_col)\n",
    "            Y.append(percentage[i+p-1])\n",
    "        # sanity checks\n",
    "        # print('X[0]',X[0])\n",
    "        # print('Y first target',[Y[0]])\n",
    "        # print('len Y {} len X {}'.format(len(Y),len(X)))\n",
    "\n",
    "        assert(len(Y)==len(X))\n",
    "\n",
    "        model = linear_model.LinearRegression()\n",
    "        model.fit(X,Y)\n",
    "        y_pred = model.predict(X)\n",
    "        error = metrics.mean_squared_error(y_pred,Y)\n",
    "        print(\"National Data Split:{} Year:{}\".format(split, year))\n",
    "        print(\"-\"*50)\n",
    "        print('Model coefficents {}, Model Bias {}'.format(model.coef_,model.intercept_))\n",
    "        print('error',error)\n",
    "        print(\"\\n\")\n"
   ]
  },
  {
   "cell_type": "code",
   "execution_count": null,
   "metadata": {
    "collapsed": true
   },
   "outputs": [],
   "source": []
  }
 ],
 "metadata": {
  "kernelspec": {
   "display_name": "Python [conda env:mark_ra]",
   "language": "python",
   "name": "conda-env-mark_ra-py"
  },
  "language_info": {
   "codemirror_mode": {
    "name": "ipython",
    "version": 3
   },
   "file_extension": ".py",
   "mimetype": "text/x-python",
   "name": "python",
   "nbconvert_exporter": "python",
   "pygments_lexer": "ipython3",
   "version": "3.6.4"
  }
 },
 "nbformat": 4,
 "nbformat_minor": 2
}
