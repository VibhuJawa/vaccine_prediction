{
 "cells": [
  {
   "cell_type": "markdown",
   "metadata": {},
   "source": [
    "# Linear models last time step prediction"
   ]
  },
  {
   "cell_type": "code",
   "execution_count": 1,
   "metadata": {
    "collapsed": true
   },
   "outputs": [],
   "source": [
    "import matplotlib.pyplot as plt\n",
    "import json\n",
    "import os\n",
    "import datetime\n",
    "import pandas as pd\n",
    "import numpy as np\n",
    "from sklearn import linear_model\n",
    "from sklearn import metrics\n",
    "data_dir = './vaccine_data/hhs_data/'"
   ]
  },
  {
   "cell_type": "code",
   "execution_count": 2,
   "metadata": {},
   "outputs": [
    {
     "data": {
      "application/javascript": [
       "IPython.OutputArea.auto_scroll_threshold = 999;"
      ],
      "text/plain": [
       "<IPython.core.display.Javascript object>"
      ]
     },
     "metadata": {},
     "output_type": "display_data"
    }
   ],
   "source": [
    "%%javascript\n",
    "IPython.OutputArea.auto_scroll_threshold = 999;"
   ]
  },
  {
   "cell_type": "code",
   "execution_count": 3,
   "metadata": {
    "collapsed": true
   },
   "outputs": [],
   "source": [
    "train_years = ['2013','2014']\n",
    "dev_years = ['2015']\n",
    "test_years = ['2016','2017']\n",
    "\n",
    "train_download_dir = ('train',train_years)\n",
    "dev_download_dir = ('dev',dev_years)\n",
    "test_download_dir = ('test',test_years)\n",
    "data_split_ls = [train_download_dir,dev_download_dir,test_download_dir]"
   ]
  },
  {
   "cell_type": "code",
   "execution_count": 6,
   "metadata": {},
   "outputs": [],
   "source": [
    "split = 'train'\n",
    "train_years = ['2013','2014']\n",
    "X = []\n",
    "for year in train_years:\n",
    "    data_df = pd.read_json(open(os.path.join(data_dir,split,year,'national.json')))\n",
    "    X.append(data_df['percentage'].values)\n",
    "X = np.asarray(X)\n",
    "week_means = X.mean(axis = 0)\n",
    "\n",
    "threshold_start_pred  = 1 \n"
   ]
  },
  {
   "cell_type": "code",
   "execution_count": 8,
   "metadata": {},
   "outputs": [
    {
     "name": "stdout",
     "output_type": "stream",
     "text": [
      "Error in last train prediction 0.000203455752710052 %\n"
     ]
    }
   ],
   "source": [
    "split,years = train_download_dir\n",
    "threshold_start_pred  = 4 \n",
    "Y = []\n",
    "X = []\n",
    "for year in years:\n",
    "    data = pd.read_json(open(os.path.join(data_dir,split,year,'national.json')))\n",
    "    percent_vaccinated_week = (data['percentage']).values\n",
    "    percent_vaccinated_week = percent_vaccinated_week -  week_means\n",
    "\n",
    "    initial_week_vals = [percent_vaccinated_week[i] for i in range(0,threshold_start_pred)]\n",
    "    \n",
    "    for i in range(threshold_start_pred,len(percent_vaccinated_week)):\n",
    "        X.append([i]+initial_week_vals)\n",
    "        Y.append(percent_vaccinated_week[i])\n",
    "\n",
    "\n",
    "X = np.asarray(X)\n",
    "Y = np.asarray(Y)\n",
    "model = linear_model.LinearRegression()\n",
    "model.fit(X,Y)\n",
    "y_pred = model.predict(X)\n",
    "error = metrics.mean_squared_error([y_pred[-1]],[Y[-1]])\n",
    "print(\"Error in last train prediction {} %\".format(error*100 ))"
   ]
  },
  {
   "cell_type": "markdown",
   "metadata": {},
   "source": [
    "## Dev Prediction"
   ]
  },
  {
   "cell_type": "code",
   "execution_count": 6,
   "metadata": {},
   "outputs": [
    {
     "name": "stdout",
     "output_type": "stream",
     "text": [
      "Error in last dev prediction 0.03315038673220914 %\n"
     ]
    }
   ],
   "source": [
    "split = 'dev'\n",
    "year = '2015'\n",
    "data = pd.read_json(open(os.path.join(data_dir,split,year,'national.json')))\n",
    "percent_vaccinated_week = (data['percentage']).values\n",
    "percent_vaccinated_week = percent_vaccinated_week -  week_means\n",
    "\n",
    "initial_week_vals = [percent_vaccinated_week[i] for i in range(0,threshold_start_pred)]\n",
    "Y = []\n",
    "X = []\n",
    "for i in range(threshold_start_pred,len(percent_vaccinated_week)):\n",
    "    X.append([i]+initial_week_vals)\n",
    "    Y.append(percent_vaccinated_week[i])\n",
    "\n",
    "X = np.asarray(X)\n",
    "Y = np.asarray(Y)\n",
    "\n",
    "y_pred = model.predict(X)\n",
    "error = metrics.mean_squared_error([y_pred[-1]],[Y[-1]])\n",
    "print(\"Error in last dev prediction {} %\".format(error*100 ))"
   ]
  },
  {
   "cell_type": "markdown",
   "metadata": {},
   "source": [
    "## Test Prediction"
   ]
  },
  {
   "cell_type": "code",
   "execution_count": 11,
   "metadata": {},
   "outputs": [
    {
     "name": "stdout",
     "output_type": "stream",
     "text": [
      "Error in last test prediction 0.028045016905053986 %\n",
      "Error in last test prediction 0.1545675874196898 %\n"
     ]
    }
   ],
   "source": [
    "split = 'test'\n",
    "years = ['2016','2017']\n",
    "for year in years:\n",
    "    data = pd.read_json(open(os.path.join(data_dir,split,year,'national.json')))\n",
    "    percent_vaccinated_week = (data['percentage']).values\n",
    "    percent_vaccinated_week = percent_vaccinated_week -  week_means[0:len(percent_vaccinated_week)]\n",
    "\n",
    "    initial_week_vals = [percent_vaccinated_week[i] for i in range(0,threshold_start_pred)]\n",
    "    Y = []\n",
    "    X = []\n",
    "    for i in range(threshold_start_pred,len(percent_vaccinated_week)):\n",
    "        X.append([i]+initial_week_vals)\n",
    "        Y.append(percent_vaccinated_week[i])\n",
    "\n",
    "    X = np.asarray(X)\n",
    "    Y = np.asarray(Y)\n",
    "    y_pred = model.predict(X)\n",
    "    error = metrics.mean_squared_error([y_pred[-1]],[Y[-1]])\n",
    "    print(\"Error in last test prediction {} %\".format(error*100 ))"
   ]
  },
  {
   "cell_type": "code",
   "execution_count": 12,
   "metadata": {},
   "outputs": [
    {
     "name": "stdout",
     "output_type": "stream",
     "text": [
      "Model Coeff [-1.05124778e-19 -3.14996031e-02 -6.43303807e-02 -7.30701974e-02\n",
      " -3.34019620e-02],\n"
     ]
    }
   ],
   "source": [
    "print(\"Model Coeff {},\".format(model.coef_))"
   ]
  },
  {
   "cell_type": "code",
   "execution_count": null,
   "metadata": {
    "collapsed": true
   },
   "outputs": [],
   "source": []
  },
  {
   "cell_type": "code",
   "execution_count": null,
   "metadata": {
    "collapsed": true
   },
   "outputs": [],
   "source": []
  }
 ],
 "metadata": {
  "kernelspec": {
   "display_name": "Python [conda env:mark_ra]",
   "language": "python",
   "name": "conda-env-mark_ra-py"
  },
  "language_info": {
   "codemirror_mode": {
    "name": "ipython",
    "version": 3
   },
   "file_extension": ".py",
   "mimetype": "text/x-python",
   "name": "python",
   "nbconvert_exporter": "python",
   "pygments_lexer": "ipython3",
   "version": "3.6.4"
  }
 },
 "nbformat": 4,
 "nbformat_minor": 2
}
